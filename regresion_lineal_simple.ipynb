{
 "cells": [
  {
   "cell_type": "code",
   "execution_count": 68,
   "id": "ec9ab135",
   "metadata": {},
   "outputs": [],
   "source": [
    "import pandas as pd\n",
    "import matplotlib.pyplot as plt\n",
    "datos = pd.read_csv(\"ingreso.csv\")"
   ]
  },
  {
   "cell_type": "code",
   "execution_count": 69,
   "id": "e2b57ae4",
   "metadata": {},
   "outputs": [
    {
     "data": {
      "text/html": [
       "<div>\n",
       "<style scoped>\n",
       "    .dataframe tbody tr th:only-of-type {\n",
       "        vertical-align: middle;\n",
       "    }\n",
       "\n",
       "    .dataframe tbody tr th {\n",
       "        vertical-align: top;\n",
       "    }\n",
       "\n",
       "    .dataframe thead th {\n",
       "        text-align: right;\n",
       "    }\n",
       "</style>\n",
       "<table border=\"1\" class=\"dataframe\">\n",
       "  <thead>\n",
       "    <tr style=\"text-align: right;\">\n",
       "      <th></th>\n",
       "      <th>ingreso</th>\n",
       "      <th>horas</th>\n",
       "    </tr>\n",
       "  </thead>\n",
       "  <tbody>\n",
       "    <tr>\n",
       "      <th>0</th>\n",
       "      <td>9973.577534</td>\n",
       "      <td>40.905476</td>\n",
       "    </tr>\n",
       "    <tr>\n",
       "      <th>1</th>\n",
       "      <td>8961.047249</td>\n",
       "      <td>41.576483</td>\n",
       "    </tr>\n",
       "    <tr>\n",
       "      <th>2</th>\n",
       "      <td>7437.977263</td>\n",
       "      <td>41.369239</td>\n",
       "    </tr>\n",
       "    <tr>\n",
       "      <th>3</th>\n",
       "      <td>12064.915290</td>\n",
       "      <td>41.537211</td>\n",
       "    </tr>\n",
       "    <tr>\n",
       "      <th>4</th>\n",
       "      <td>9296.396167</td>\n",
       "      <td>40.441203</td>\n",
       "    </tr>\n",
       "    <tr>\n",
       "      <th>...</th>\n",
       "      <td>...</td>\n",
       "      <td>...</td>\n",
       "    </tr>\n",
       "    <tr>\n",
       "      <th>995</th>\n",
       "      <td>9998.522402</td>\n",
       "      <td>41.110352</td>\n",
       "    </tr>\n",
       "    <tr>\n",
       "      <th>996</th>\n",
       "      <td>6867.097603</td>\n",
       "      <td>40.617061</td>\n",
       "    </tr>\n",
       "    <tr>\n",
       "      <th>997</th>\n",
       "      <td>9757.539280</td>\n",
       "      <td>40.798085</td>\n",
       "    </tr>\n",
       "    <tr>\n",
       "      <th>998</th>\n",
       "      <td>11044.031510</td>\n",
       "      <td>41.443604</td>\n",
       "    </tr>\n",
       "    <tr>\n",
       "      <th>999</th>\n",
       "      <td>13222.253800</td>\n",
       "      <td>41.402637</td>\n",
       "    </tr>\n",
       "  </tbody>\n",
       "</table>\n",
       "<p>1000 rows × 2 columns</p>\n",
       "</div>"
      ],
      "text/plain": [
       "          ingreso      horas\n",
       "0     9973.577534  40.905476\n",
       "1     8961.047249  41.576483\n",
       "2     7437.977263  41.369239\n",
       "3    12064.915290  41.537211\n",
       "4     9296.396167  40.441203\n",
       "..            ...        ...\n",
       "995   9998.522402  41.110352\n",
       "996   6867.097603  40.617061\n",
       "997   9757.539280  40.798085\n",
       "998  11044.031510  41.443604\n",
       "999  13222.253800  41.402637\n",
       "\n",
       "[1000 rows x 2 columns]"
      ]
     },
     "execution_count": 69,
     "metadata": {},
     "output_type": "execute_result"
    }
   ],
   "source": [
    "datos"
   ]
  },
  {
   "cell_type": "code",
   "execution_count": 70,
   "id": "9a42ce1e",
   "metadata": {},
   "outputs": [
    {
     "data": {
      "image/png": "[encoded data removed]",
      "text/plain": [
       "<Figure size 432x288 with 1 Axes>"
      ]
     },
     "metadata": {
      "needs_background": "light"
     },
     "output_type": "display_data"
    }
   ],
   "source": [
    "import matplotlib.pyplot as plt\n",
    "plt.ylabel(\"Ingreso ($)\")\n",
    "plt.xlabel(\"Promedio horas semanales trabajadas\")\n",
    "plt.scatter(datos[\"horas\"],datos[\"ingreso\"], color = \"pink\")\n",
    "plt.show()"
   ]
  },
  {
   "cell_type": "code",
   "execution_count": 71,
   "id": "8e025d70",
   "metadata": {},
   "outputs": [
    {
     "name": "stdout",
     "output_type": "stream",
     "text": [
      "Intersección (b) -112320.22713310868\n",
      "pendiente(m) [2965.35614382]\n"
     ]
    }
   ],
   "source": [
    "from sklearn import linear_model\n",
    "regresion = linear_model.LinearRegression()\n",
    "horas = datos[\"horas\"].values.reshape((-1 , 1))\n",
    "modelo = regresion.fit(horas, datos[\"ingreso\"])\n",
    "print(\"Intersección (b)\", modelo.intercept_)\n",
    "print(\"pendiente(m)\", modelo.coef_)"
   ]
  },
  {
   "cell_type": "code",
   "execution_count": 76,
   "id": "e042deab",
   "metadata": {},
   "outputs": [
    {
     "data": {
      "text/plain": [
       "array([ 3328.6624759 ,  9259.37476354, 15190.08705118, 18155.443195  ])"
      ]
     },
     "execution_count": 76,
     "metadata": {},
     "output_type": "execute_result"
    }
   ],
   "source": [
    "entrada = [[39], [41], [43], [44]]\n",
    "modelo.predict(entrada)\n"
   ]
  },
  {
   "cell_type": "code",
   "execution_count": 77,
   "id": "11fbff77",
   "metadata": {},
   "outputs": [
    {
     "data": {
      "image/png": "[encoded data removed]",
      "text/plain": [
       "<Figure size 432x288 with 1 Axes>"
      ]
     },
     "metadata": {
      "needs_background": "light"
     },
     "output_type": "display_data"
    }
   ],
   "source": [
    "\n",
    "plt.scatter(entrada, modelo.predict(entrada), color = \"green\")\n",
    "plt.plot(entrada, modelo.predict(entrada), color = \"black\")\n",
    "plt.ylabel(\"Ingreso ($)\")\n",
    "plt.xlabel(\"Promedio horas semanales trabajadas\")\n",
    "plt.scatter(datos[\"horas\"],datos[\"ingreso\"], color = \"pink\")\n",
    "plt.show()"
   ]
  },
  {
   "cell_type": "code",
   "execution_count": null,
   "id": "0b425e06",
   "metadata": {},
   "outputs": [],
   "source": []
  }
 ],
 "metadata": {
  "kernelspec": {
   "display_name": "Python 3 (ipykernel)",
   "language": "python",
   "name": "python3"
  },
  "language_info": {
   "codemirror_mode": {
    "name": "ipython",
    "version": 3
   },
   "file_extension": ".py",
   "mimetype": "text/x-python",
   "name": "python",
   "nbconvert_exporter": "python",
   "pygments_lexer": "ipython3",
   "version": "3.9.7"
  }
 },
 "nbformat": 4,
 "nbformat_minor": 5
}
